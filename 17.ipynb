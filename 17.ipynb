{
 "cells": [
  {
   "cell_type": "code",
   "execution_count": 1,
   "id": "bronze-terrain",
   "metadata": {},
   "outputs": [],
   "source": [
    "import torch\n",
    "from torch import tensor"
   ]
  },
  {
   "cell_type": "code",
   "execution_count": 18,
   "id": "congressional-warehouse",
   "metadata": {},
   "outputs": [],
   "source": [
    "def mat_mul(a,b):\n",
    "    ar, ac = a.shape\n",
    "    br, bc = b.shape\n",
    "    if ac != br:\n",
    "        raise Exception('invalid shape')\n",
    "    res = torch.zeros(ar,bc)   \n",
    "    for row in range(ar):\n",
    "        for col in range(bc):\n",
    "            res[row,col] = (a[row,:] * b[:,col] ).sum()\n",
    "            \n",
    "    return res\n",
    "        "
   ]
  },
  {
   "cell_type": "code",
   "execution_count": 19,
   "id": "developmental-diagnosis",
   "metadata": {},
   "outputs": [],
   "source": [
    "m1 = torch.randn(5,10)\n",
    "m2 = torch.randn(10, 3)"
   ]
  },
  {
   "cell_type": "code",
   "execution_count": 20,
   "id": "ambient-netscape",
   "metadata": {},
   "outputs": [
    {
     "data": {
      "text/plain": [
       "tensor([[-5.9767, -0.3922,  0.4314],\n",
       "        [ 0.8785, -0.1318,  0.7626],\n",
       "        [-4.9150,  3.9445, -4.4567],\n",
       "        [-3.4647,  4.5484,  3.0348],\n",
       "        [-7.7347,  2.4215, -4.9602]])"
      ]
     },
     "execution_count": 20,
     "metadata": {},
     "output_type": "execute_result"
    }
   ],
   "source": [
    "mat_mul(m1,m2)"
   ]
  },
  {
   "cell_type": "code",
   "execution_count": 16,
   "id": "neural-tobago",
   "metadata": {},
   "outputs": [
    {
     "data": {
      "text/plain": [
       "(torch.Size([10]), torch.Size([10]))"
      ]
     },
     "execution_count": 16,
     "metadata": {},
     "output_type": "execute_result"
    }
   ],
   "source": [
    "m1[1,:].shape, m2[:,1].shape"
   ]
  },
  {
   "cell_type": "code",
   "execution_count": 17,
   "id": "timely-insert",
   "metadata": {},
   "outputs": [
    {
     "data": {
      "text/plain": [
       "tensor([-1.0897, -1.0316,  1.5028, -2.0029,  2.2291, -1.0074,  1.6176,  2.5046,\n",
       "         0.9384, -0.1685])"
      ]
     },
     "execution_count": 17,
     "metadata": {},
     "output_type": "execute_result"
    }
   ],
   "source": [
    "m1[1,:] * m2[:,1]"
   ]
  },
  {
   "cell_type": "code",
   "execution_count": 21,
   "id": "portuguese-mining",
   "metadata": {},
   "outputs": [],
   "source": [
    "t1 = tensor([1,2,3]).float()"
   ]
  },
  {
   "cell_type": "code",
   "execution_count": 24,
   "id": "independent-repeat",
   "metadata": {},
   "outputs": [
    {
     "data": {
      "text/plain": [
       "tensor([[1., 2., 3.]])"
      ]
     },
     "execution_count": 24,
     "metadata": {},
     "output_type": "execute_result"
    }
   ],
   "source": [
    "t1.unsqueeze(0)"
   ]
  },
  {
   "cell_type": "code",
   "execution_count": 25,
   "id": "architectural-estimate",
   "metadata": {},
   "outputs": [
    {
     "data": {
      "text/plain": [
       "tensor([[1., 2., 3.]])"
      ]
     },
     "execution_count": 25,
     "metadata": {},
     "output_type": "execute_result"
    }
   ],
   "source": [
    "t1[None]"
   ]
  },
  {
   "cell_type": "code",
   "execution_count": 26,
   "id": "human-isaac",
   "metadata": {},
   "outputs": [
    {
     "data": {
      "text/plain": [
       "tensor([[1.],\n",
       "        [2.],\n",
       "        [3.]])"
      ]
     },
     "execution_count": 26,
     "metadata": {},
     "output_type": "execute_result"
    }
   ],
   "source": [
    "t1.unsqueeze(-1)"
   ]
  },
  {
   "cell_type": "code",
   "execution_count": 27,
   "id": "harmful-earth",
   "metadata": {},
   "outputs": [
    {
     "data": {
      "text/plain": [
       "tensor([1., 2., 3.])"
      ]
     },
     "execution_count": 27,
     "metadata": {},
     "output_type": "execute_result"
    }
   ],
   "source": [
    "t1"
   ]
  },
  {
   "cell_type": "code",
   "execution_count": 33,
   "id": "perfect-oracle",
   "metadata": {},
   "outputs": [
    {
     "data": {
      "text/plain": [
       "tensor([[1.],\n",
       "        [2.],\n",
       "        [3.]])"
      ]
     },
     "execution_count": 33,
     "metadata": {},
     "output_type": "execute_result"
    }
   ],
   "source": [
    "t1.unsqueeze(0).view(-1,1)"
   ]
  },
  {
   "cell_type": "code",
   "execution_count": 35,
   "id": "fuzzy-latitude",
   "metadata": {},
   "outputs": [],
   "source": [
    "def mat_mul(a,b):\n",
    "    ar,ac = a.shape\n",
    "    br,bc = b.shape\n",
    "    assert ac == br\n",
    "    res = torch.zeros(ar,bc)\n",
    "    for row in range(ar):\n",
    "        res[row] = (a[ar].unsqueeze(-1) * b).sum(0)\n",
    "    return res"
   ]
  },
  {
   "cell_type": "code",
   "execution_count": 47,
   "id": "insured-north",
   "metadata": {},
   "outputs": [
    {
     "data": {
      "text/plain": [
       "tensor([-5.9767, -0.3922,  0.4314])"
      ]
     },
     "execution_count": 47,
     "metadata": {},
     "output_type": "execute_result"
    }
   ],
   "source": [
    "(m1[0].unsqueeze(-1) * m2).sum(0)"
   ]
  },
  {
   "cell_type": "code",
   "execution_count": 48,
   "id": "artificial-accessory",
   "metadata": {},
   "outputs": [
    {
     "data": {
      "text/plain": [
       "(torch.Size([16, 8, 5, 1, 128, 128]), torch.Size([16, 8, 1, 5, 128, 128]))"
      ]
     },
     "execution_count": 48,
     "metadata": {},
     "output_type": "execute_result"
    }
   ],
   "source": [
    "A = torch.randn(16, 8, 5, 128, 128)\n",
    "B = torch.randn(16, 8, 5, 128, 128)\n",
    "A = A.unsqueeze(3)\n",
    "B = B.unsqueeze(2)\n",
    "A.shape, B.shape"
   ]
  },
  {
   "cell_type": "code",
   "execution_count": 52,
   "id": "pursuant-identification",
   "metadata": {},
   "outputs": [
    {
     "data": {
      "text/plain": [
       "tensor([[-5.9767, -0.3922,  0.4314],\n",
       "        [ 0.8785, -0.1318,  0.7626],\n",
       "        [-4.9150,  3.9445, -4.4567],\n",
       "        [-3.4647,  4.5484,  3.0348],\n",
       "        [-7.7347,  2.4215, -4.9602]])"
      ]
     },
     "execution_count": 52,
     "metadata": {},
     "output_type": "execute_result"
    }
   ],
   "source": [
    "torch.einsum('ab,bc->ac',m1,m2)"
   ]
  },
  {
   "cell_type": "code",
   "execution_count": 54,
   "id": "athletic-sister",
   "metadata": {},
   "outputs": [
    {
     "data": {
      "text/plain": [
       "torch.Size([200])"
      ]
     },
     "execution_count": 54,
     "metadata": {},
     "output_type": "execute_result"
    }
   ],
   "source": [
    "torch.randn(200,1).squeeze().shape"
   ]
  },
  {
   "cell_type": "code",
   "execution_count": null,
   "id": "solid-deposit",
   "metadata": {},
   "outputs": [],
   "source": []
  }
 ],
 "metadata": {
  "kernelspec": {
   "display_name": "Python 3",
   "language": "python",
   "name": "python3"
  },
  "language_info": {
   "codemirror_mode": {
    "name": "ipython",
    "version": 3
   },
   "file_extension": ".py",
   "mimetype": "text/x-python",
   "name": "python",
   "nbconvert_exporter": "python",
   "pygments_lexer": "ipython3",
   "version": "3.8.2"
  }
 },
 "nbformat": 4,
 "nbformat_minor": 5
}
